{
 "cells": [
  {
   "cell_type": "markdown",
   "metadata": {},
   "source": [
    "# Set Up: Jupyter Notebook"
   ]
  },
  {
   "cell_type": "code",
   "execution_count": null,
   "metadata": {},
   "outputs": [],
   "source": [
    "# Import the required libraries\n",
    "import requests\n",
    "import pandas as pd\n",
    "\n",
    "# ----------------- #\n",
    "\n",
    "# Pandas extensions\n",
    "from ingester3.extensions import *\n",
    "\n",
    "# Set up for chache.\n",
    "from ingester3.scratch import cache_manager"
   ]
  },
  {
   "cell_type": "code",
   "execution_count": null,
   "metadata": {},
   "outputs": [],
   "source": [
    "# Check version of ingester3\n",
    "from pkg_resources import get_distribution\n",
    "installed_version = get_distribution('ingester3').version\n",
    "\n",
    "if installed_version >= '1.8.1':\n",
    "    print (f\"You are running version {installed_version} which is consistent with the documentation\")\n",
    "else:\n",
    "    print (f\"\"\"\n",
    "You are running an obsolete version ({installed_version}). Run:\n",
    "pip install ingester3 --upgrade \n",
    "to upgrade\"\"\")"
   ]
  },
  {
   "cell_type": "markdown",
   "metadata": {},
   "source": [
    "# Download: Climate Data from CRU and ERA5 data sets\n",
    "- Reasoning for variable choice\n",
    "    - Document with more extensive reasoning for why a variable should or should not be included in bruno-gbl's repository: https://github.com/bruno-gbl/climate-data-country/blob/main/docs/Variables%20Overview.md\n",
    "    - Document also includes information on the variables used in Garret's script to ingest climate variables at the pgm level.\n",
    "    - Document also includes more detailed information about the specific coding of the different variables.\n",
    "- CRU vs. ERA5 variables:\n",
    "    - In this script, each climate data variable is either from the CRU or ERA5 climate data set. Both are available through the same World bank Climate Data portal.\n",
    "    - However, their API and the time-span of available data differs slightly. Therefore, they are treated sligthly different before being merged into one dataset.\n",
    "- Data Specifications on WorldBank Climate Data Platform:\n",
    "    - CRU data set > timeseries > monthly > 1901-2022 > mean > model \"ts4.07\"\n",
    "    - ERA5 data set > timeseries > monthly > 1950-2023 > mean > model \"era5\" > model label \"x0.25\""
   ]
  },
  {
   "cell_type": "markdown",
   "metadata": {},
   "source": [
    "#### Define Function: Download CRU data"
   ]
  },
  {
   "cell_type": "code",
   "execution_count": 2,
   "metadata": {},
   "outputs": [],
   "source": [
    "# The API Structure:\n",
    "# https://cckpapi.worldbank.org/cckp/v1/cru-x0.5_timeseries_{variable_name}_timeseries_monthly_1901-2022_mean_historical_cru_ts4.07_mean/all_countries?_format=json\n",
    "\n",
    "# Function downloading the climate data from the World Bank Climate Knowledge Portal and turning it into a pandas DataFrame\n",
    "def download_cru_data(cru_variable):\n",
    "        \n",
    "        # Define the URL for the JSON file\n",
    "        url_climate_data = f\"https://cckpapi.worldbank.org/cckp/v1/cru-x0.5_timeseries_{cru_variable}_timeseries_monthly_1901-2022_mean_historical_cru_ts4.07_mean/all_countries?_format=json\"\n",
    "        # Fetch the JSON data using a GET request\n",
    "        response_climate_data = requests.get(url_climate_data)\n",
    "    \n",
    "        # Parse the JSON response into a Python dictionary, if the request was successful\n",
    "        if response_climate_data.status_code == 200:\n",
    "            climate_data_json = response_climate_data.json()\n",
    "        else:\n",
    "            print(f\"Failed to fetch data.\")\n",
    "            climate_data_json = None\n",
    "    \n",
    "        # Flatten the nested structure into a list of dictionaries\n",
    "        climate_data_json_only_data = climate_data_json[\"data\"]\n",
    "\n",
    "        rows = []\n",
    "\n",
    "        for country, timeseries in climate_data_json_only_data.items():\n",
    "            for date, value in timeseries.items():\n",
    "                rows.append({\"Country\": country, \"Date\": date, \"Value\": value})\n",
    "    \n",
    "        # Convert the list into a pandas DataFrame\n",
    "        climate_data_df = pd.DataFrame(rows)\n",
    "    \n",
    "        # Return the DataFrame for further use\n",
    "        return climate_data_df\n"
   ]
  },
  {
   "cell_type": "markdown",
   "metadata": {},
   "source": [
    "#### Download: CRU variables that should definitely be adopted."
   ]
  },
  {
   "cell_type": "code",
   "execution_count": 3,
   "metadata": {},
   "outputs": [],
   "source": [
    "# tas // Average Mean Surface Air Temperature // G: Only relative temperature variables\n",
    "tas_cru_df = download_cru_data(\"tas\")\n",
    "\n",
    "# tasmax // Average Maximum Surface Air Temperature // G: Only relative temperature variables\n",
    "tasmax_cru_df = download_cru_data(\"tasmax\")\n",
    "\n",
    "# tasmin // Average Minimum Surface Air Temperature // G: Only relative temperature variables\n",
    "tasmin_cru_df = download_cru_data(\"tasmin\")\n"
   ]
  },
  {
   "cell_type": "markdown",
   "metadata": {},
   "source": [
    "#### Define Function: Download ERA5 data"
   ]
  },
  {
   "cell_type": "code",
   "execution_count": 4,
   "metadata": {},
   "outputs": [],
   "source": [
    "# The API Structure:\n",
    "# https://cckpapi.worldbank.org/cckp/v1/era5-x0.25_timeseries_{variable_name}_timeseries_monthly_1950-2023_mean_historical_era5_x0.25_mean/all_countries?_format=json\n",
    "\n",
    "# Function downloading the climate data from the World Bank Climate Knowledge Portal and turning it into a pandas DataFrame\n",
    "def download_era5_data(era5_variable):\n",
    "        \n",
    "        # Define the URL for the JSON file\n",
    "        url_climate_data = f\"https://cckpapi.worldbank.org/cckp/v1/era5-x0.25_timeseries_{era5_variable}_timeseries_monthly_1950-2023_mean_historical_era5_x0.25_mean/all_countries?_format=json\"\n",
    "        # Fetch the JSON data using a GET request\n",
    "        response_climate_data = requests.get(url_climate_data)\n",
    "    \n",
    "        # Parse the JSON response into a Python dictionary, if the request was successful\n",
    "        if response_climate_data.status_code == 200:\n",
    "            climate_data_json = response_climate_data.json()\n",
    "        else:\n",
    "            print(f\"Failed to fetch data.\")\n",
    "            climate_data_json = None\n",
    "    \n",
    "        # Flatten the nested structure into a list of dictionaries\n",
    "        climate_data_json_only_data = climate_data_json[\"data\"]\n",
    "\n",
    "        rows = []\n",
    "\n",
    "        for country, timeseries in climate_data_json_only_data.items():\n",
    "            for date, value in timeseries.items():\n",
    "                rows.append({\"Country\": country, \"Date\": date, \"Value\": value})\n",
    "    \n",
    "        # Convert the list into a pandas DataFrame\n",
    "        climate_data_df = pd.DataFrame(rows)\n",
    "    \n",
    "        # Return the DataFrame for further use\n",
    "        return climate_data_df"
   ]
  },
  {
   "cell_type": "markdown",
   "metadata": {},
   "source": [
    "#### Download: ERA5 variables that should definitely be adopted."
   ]
  },
  {
   "cell_type": "code",
   "execution_count": 5,
   "metadata": {},
   "outputs": [],
   "source": [
    "# cdd65 // Cooling Degree Days (ref-65°F)\n",
    "cdd65_era5_df = download_era5_data(\"cdd65\")\n",
    "\n",
    "# hd35 // Number of Hot Days (Tmax > 35°C)\n",
    "hd35_era5_df = download_era5_data(\"hd35\")\n",
    "\n",
    "# hd40 // Number of Hot Days (Tmax > 40°C)\n",
    "hd40_era5_df = download_era5_data(\"hd40\")\n",
    "\n",
    "# hd42 // Number of Hot Days (Tmax > 42°C)\n",
    "hd42_era5_df = download_era5_data(\"hd42\")\n",
    "\n",
    "# hdd65 // Heating degree days (ref-65°F)\n",
    "hdd65_era5_df = download_era5_data(\"hdd65\")\n",
    "\n",
    "# hi35 // Number of Days with Heat Index > 35°C\n",
    "hi35_era5_df = download_era5_data(\"hi35\")\n",
    "\n",
    "# hi37 // Number of Days with Heat Index > 37°C\n",
    "hi37_era5_df = download_era5_data(\"hi37\")\n",
    "\n",
    "# hurs // Relative Humidity\n",
    "hurs_era5_df = download_era5_data(\"hurs\")\n",
    "\n",
    "# prpercnt // Precipitation Percent Change\n",
    "prpercnt_era5_df = download_era5_data(\"prpercnt\")\n",
    "\n",
    "# rx1day // Average Largest 1-Day Precipitation\n",
    "rx1day_era5_df = download_era5_data(\"rx1day\")\n",
    "\n",
    "# rx5day // Average Largest 5-Day Cumulative Precipitation\n",
    "rx5day_era5_df = download_era5_data(\"rx5day\")\n",
    "\n",
    "# tnn // Minimum of Daily Min-Temperature\n",
    "tnn_era5_df = download_era5_data(\"tnn\")\n",
    "\n",
    "# txx // Maximum of Daily Max-Temperature\n",
    "txx_era5_df = download_era5_data(\"txx\")\n"
   ]
  },
  {
   "cell_type": "markdown",
   "metadata": {},
   "source": [
    "#### Download: ERA5 variables that should probably be adopted."
   ]
  },
  {
   "cell_type": "code",
   "execution_count": 6,
   "metadata": {},
   "outputs": [],
   "source": [
    "# pr // Precipitation // G: \"Total wet day precipitation\" // similar, not identical to existing \"pr\" variable // This variable is average precipitation over a given time // Potentially also includes smaller variation of rain below 1mm\n",
    "pr_era5_df = download_era5_data(\"pr\")\n",
    "\n",
    "# hd30 // Number of Hot Days (Tmax > 30°C) //  G: - // Overlaping with existing hd35, hd40, hd42\n",
    "hd30_era5_df = download_era5_data(\"hd30\")\n",
    "\n",
    "# hd50 // Number of Hot Days (Tmax > 50°C) // G: - // Only daily maximum temperature per month/year.\n",
    "hd50_era5_df = download_era5_data(\"hd50\")\n",
    "\n",
    "# hi39 // Number of Days with Heat Index > 39°C // Did not include variable that was available\n",
    "hi39_era5_df = download_era5_data(\"hi39\")\n",
    "\n",
    "# hi41 // Number of Days with Heat Index > 41°C // G: - // Did not include variable that was available\n",
    "hi41_era5_df = download_era5_data(\"hi41\")\n",
    "\n",
    "# r50mm // Number of Days with Precipitation >50mm // G: - // Only \"Very heavy precipitation days\" = days with more than 20mm\n",
    "r50mm_era5_df = download_era5_data(\"r50mm\")\n",
    "\n",
    "# r95ptot // Precipitation amount during wettest days //  G: - // Did not include identical variable \"Very wet day precipitation\"\n",
    "r95ptot_era5_df = download_era5_data(\"r95ptot\")\n",
    "\n",
    "# tr23 // Number of Tropical Nights (T-min > 23°C) // [Very similar to \"tr\"]\n",
    "tr23_era5_df = download_era5_data(\"tr23\")\n",
    "\n",
    "# tr26 // Number of Tropical Nights (T-min > 26°C) // [Very similar to \"tr\"]\n",
    "tr26_era5_df = download_era5_data(\"tr26\")\n",
    "\n",
    "# tr29 // Number of Tropical Nights (T-min > 29°C) // [Very similar to \"tr\"]\n",
    "tr29_era5_df = download_era5_data(\"tr29\")\n",
    "\n",
    "# tr32 // Number of Tropical Nights (T-min > 32°C) // [Very similar to \"tr\"]\n",
    "tr32_era5_df = download_era5_data(\"tr32\")\n"
   ]
  },
  {
   "cell_type": "markdown",
   "metadata": {},
   "source": [
    "#### Download: ERA5 variables that should probably NOT be adopted."
   ]
  },
  {
   "cell_type": "code",
   "execution_count": 7,
   "metadata": {},
   "outputs": [],
   "source": [
    "# fd // Number of Frost Days (Tmin < 0°C) // G: Almost identical variable // G: count variable // Here: Average over time, i.e. data period. Smoothed-out, long-term perspective of Frost Days; Less interesting for forecasting.\n",
    "fd_era5_df = download_era5_data(\"fd\")\n",
    "\n",
    "# id // Number of Ice Days (Tmax < 0°C) // G: Almost identical variable // G: count variable // Here: Average over time, i.e. data period. Smoothed-out, long-term perspective of Ice Days; Less interesting for forecasting.\n",
    "id_era5_df = download_era5_data(\"id\")\n"
   ]
  },
  {
   "cell_type": "markdown",
   "metadata": {},
   "source": [
    "# Data Wrangling: Preparing for ingestion"
   ]
  },
  {
   "cell_type": "markdown",
   "metadata": {},
   "source": [
    "#### Turning all variable-specific dataframes into one dictionary of dataframes\n",
    "- Easier filtering for which variables to include in the ingestion.\n",
    "- Simplified code."
   ]
  },
  {
   "cell_type": "code",
   "execution_count": 8,
   "metadata": {},
   "outputs": [],
   "source": [
    "# Creating a dictionary of dataframes with the respective variable names as labels, to be able name the value columns according to the variable name.\n",
    "dataframes_dict = {\n",
    "    # CRU variables that should definitely be adopted.\n",
    "    \"climate_tas\": tas_cru_df,\n",
    "    \"climate_tasmax\": tasmax_cru_df,\n",
    "    \"climate_tasmin\": tasmin_cru_df,\n",
    "    # ERA5 variables that should definitely be adopted.\n",
    "    \"climate_cdd65\": cdd65_era5_df,\n",
    "    \"climate_hd35\": hd35_era5_df,\n",
    "    \"climate_hd40\": hd40_era5_df,\n",
    "    \"climate_hd42\": hd42_era5_df,\n",
    "    \"climate_hdd65\": hdd65_era5_df,\n",
    "    \"climate_hi35\": hi35_era5_df,\n",
    "    \"climate_hi37\": hi37_era5_df,\n",
    "    \"climate_hurs\": hurs_era5_df,\n",
    "    \"climate_prpercnt\": prpercnt_era5_df,\n",
    "    \"climate_rx1day\": rx1day_era5_df,\n",
    "    \"climate_rx5day\": rx5day_era5_df,\n",
    "    \"climate_tnn\": tnn_era5_df,\n",
    "    \"climate_txx\": txx_era5_df,\n",
    "    # ERA5 variables that should probably be adopted.\n",
    "    \"climate_pr\": pr_era5_df,\n",
    "    \"climate_hd30\": hd30_era5_df,\n",
    "    \"climate_hd50\": hd50_era5_df,\n",
    "    \"climate_hi39\": hi39_era5_df,\n",
    "    \"climate_hi41\": hi41_era5_df,\n",
    "    \"climate_r50mm\": r50mm_era5_df,\n",
    "    \"climate_r95ptot\": r95ptot_era5_df,\n",
    "    \"climate_tr23\": tr23_era5_df,\n",
    "    \"climate_tr26\": tr26_era5_df,\n",
    "    \"climate_tr29\": tr29_era5_df,\n",
    "    \"climate_tr32\": tr32_era5_df,\n",
    "    # ERA5 variables that should probably NOT be adopted.\n",
    "    \"climate_fd\": fd_era5_df,\n",
    "    \"climate_id\": id_era5_df,\n",
    "}\n",
    "\n",
    "# Delete the standalone variable-specific dataframes to avoid confusion\n",
    "for key in dataframes_dict.keys():\n",
    "    cru_var = key.replace(\"climate_\", \"\") + \"_cru_df\"\n",
    "    era5_var = key.replace(\"climate_\", \"\") + \"_era5_df\"\n",
    "    if cru_var in globals():\n",
    "        del globals()[cru_var]\n",
    "    if era5_var in globals():\n",
    "        del globals()[era5_var]\n",
    "\n",
    "# Delete unnecessary objects after the loop finishes\n",
    "del key\n",
    "del cru_var\n",
    "del era5_var"
   ]
  },
  {
   "cell_type": "markdown",
   "metadata": {},
   "source": [
    "#### Bring all dataframes in the dictionary to the same time period: Start from January 1990\n",
    "- Convert the \"Date\" column to a datetime object\n",
    "- Filter the data to only include data from January 1990 onwards"
   ]
  },
  {
   "cell_type": "code",
   "execution_count": 9,
   "metadata": {},
   "outputs": [],
   "source": [
    "# Create a function to filter the time period to only include data from January 1990 onwards\n",
    "def filter_timeseries_1990(df):\n",
    "    # Convert the \"Date\" column to a datetime object\n",
    "    df[\"Date\"] = pd.to_datetime(df[\"Date\"])\n",
    "    # Filter the DataFrame to only include data from January 1990 onwards\n",
    "    return df[df[\"Date\"] >= \"1990-01-01\"]\n",
    "\n",
    "# Apply filtering to all DataFrames in the dictionary\n",
    "dataframes_dict = {key: filter_timeseries_1990(df) for key, df in dataframes_dict.items()}"
   ]
  },
  {
   "cell_type": "markdown",
   "metadata": {},
   "source": [
    "#### Merge all variables from the dictionary into one dataframe"
   ]
  },
  {
   "cell_type": "code",
   "execution_count": 10,
   "metadata": {},
   "outputs": [],
   "source": [
    "# Function to merge dataframes from a dictionary into a single DataFrame\n",
    "def merge_datasets_from_dict(dataframes):\n",
    "    # Initialize an empty DataFrame to start merging\n",
    "    merged_df = pd.DataFrame()\n",
    "\n",
    "    # Iterate through the dictionary\n",
    "    for var_name, df in dataframes.items():\n",
    "        # Check if the DataFrame has the expected structure\n",
    "        if set(df.columns) != {\"Country\", \"Date\", \"Value\"}:\n",
    "            raise ValueError(f\"DataFrame for '{var_name}' does not have the expected columns: {df.columns}\")\n",
    "        \n",
    "        # Rename the 'Value' column to the variable name\n",
    "        df = df.rename(columns={\"Value\": var_name})\n",
    "\n",
    "        # Merge with the existing DataFrame\n",
    "        if merged_df.empty:\n",
    "            merged_df = df\n",
    "        else:\n",
    "            merged_df = pd.merge(merged_df, df, on=[\"Country\", \"Date\"], how=\"outer\")\n",
    "    \n",
    "    return merged_df\n",
    "\n",
    "# Execute function and merge all DataFrames\n",
    "merged_df = merge_datasets_from_dict(dataframes_dict)\n",
    "\n",
    "# Clean up workspace by deleting the non-relevant DataFrames\n",
    "climate_variables_df = merged_df\n",
    "del merged_df\n",
    "del dataframes_dict"
   ]
  },
  {
   "cell_type": "markdown",
   "metadata": {},
   "source": [
    "## Data Wrangling: Turn merged data set of all climate variables into a suitable VIEWS format\n",
    "- Change Country Codes\n",
    "- Change Month Codes\n",
    "- Commands based on ingester3\n"
   ]
  },
  {
   "cell_type": "markdown",
   "metadata": {},
   "source": [
    "#### Wrangling: Inserting month_id column"
   ]
  },
  {
   "cell_type": "code",
   "execution_count": null,
   "metadata": {},
   "outputs": [],
   "source": [
    "# Adapt the data to VIEWS format using the Ingester3 extensions\n",
    "climate_variables_df = pd.DataFrame.cm.from_datetime(climate_variables_df, datetime_col='Date')"
   ]
  },
  {
   "cell_type": "markdown",
   "metadata": {},
   "source": [
    "#### Wrangling: Archiving dataframe before c_id column"
   ]
  },
  {
   "cell_type": "code",
   "execution_count": 60,
   "metadata": {},
   "outputs": [],
   "source": [
    "# Archive: climate_variables_df before creating the c_id column\n",
    "climate_variables_df_pre_sv = climate_variables_df\n",
    "del climate_variables_df\n"
   ]
  },
  {
   "cell_type": "markdown",
   "metadata": {},
   "source": [
    "### Wrangling: c_id approach 1\n",
    "- Created dataframe: climate_variables_df_c_id_1\n",
    "- Problem\n",
    "    - ! De facto inaccurate. Treats Sudan (SDN) to represent all of Sudan before split in 2011. However, climate data for country SDN is for today's borders of Sudan, i.e. Northern Sudan, for all months in the data.\n",
    "    - ! For further information and potential solutions, see further down."
   ]
  },
  {
   "cell_type": "code",
   "execution_count": null,
   "metadata": {},
   "outputs": [],
   "source": [
    "# Soft validation: Create valid_id and assign value \"true\" only to the country_months that resonate with the VIEWS database.\n",
    "    \n",
    "climate_variables_df_c_id_1 = pd.DataFrame.cm.soft_validate_iso(climate_variables_df_pre_sv, iso_col='Country', month_col='month_id')\n",
    "\n",
    "# Filter country-months for valid_id == True\n",
    "climate_variables_df_c_id_1 = climate_variables_df_c_id_1[climate_variables_df_c_id_1.valid_id==True]\n",
    "\n",
    "# Create the c_id column\n",
    "climate_variables_df_c_id_1 = pd.DataFrame.cm.from_iso(df=climate_variables_df_c_id_1, iso_col='Country', month_col='month_id')\n"
   ]
  },
  {
   "cell_type": "markdown",
   "metadata": {},
   "source": [
    "#### Wranglin: c_id approach 2\n",
    "- If an iso3-code represents different geographical areas at different points in time, we only keep the most recent.\n",
    "- This ensures that data that represents a specific area today is not used as data for a country with a identical iso3-code but a different geographical area.\n",
    "\n",
    "- Obvious example: Sudan (SDN)\n",
    "    - In the data, teh coutnry code SDN gives historical data for the region of today's Sudan.\n",
    "    - For July 2011 onwards, ingester3 codes this correctly as c_id \"245\".\n",
    "    - However, for pre-July 2011, ingester3 codes the country-months as having the c_id \"59\", which represents all of Sudan.\n",
    "    - The problem stems from Sudan changing shape in 2011, but keeping the same ISO3-Code \"SDN\"."
   ]
  },
  {
   "cell_type": "code",
   "execution_count": 61,
   "metadata": {},
   "outputs": [
    {
     "name": "stdout",
     "output_type": "stream",
     "text": [
      "       Country       Date  climate_tas  climate_tasmax  climate_tasmin  \\\n",
      "396        AFG 1990-01-01         0.44            5.30           -4.41   \n",
      "397        AFG 1990-02-01         2.15            7.32           -3.00   \n",
      "398        AFG 1990-03-01         6.85           13.49            0.23   \n",
      "399        AFG 1990-04-01        13.09           19.79            6.44   \n",
      "400        AFG 1990-05-01        20.00           27.83           12.22   \n",
      "...        ...        ...          ...             ...             ...   \n",
      "100363     ZWE 2023-08-01          NaN             NaN             NaN   \n",
      "100364     ZWE 2023-09-01          NaN             NaN             NaN   \n",
      "100365     ZWE 2023-10-01          NaN             NaN             NaN   \n",
      "100366     ZWE 2023-11-01          NaN             NaN             NaN   \n",
      "100367     ZWE 2023-12-01          NaN             NaN             NaN   \n",
      "\n",
      "        climate_cdd65  climate_hd35  climate_hd40  climate_hd42  \\\n",
      "396              0.00          0.00          0.00          0.00   \n",
      "397              0.00          0.00          0.00          0.00   \n",
      "398              8.46          0.07          0.00          0.00   \n",
      "399             80.88          1.32          0.02          0.00   \n",
      "400            260.53          7.51          2.05          0.01   \n",
      "...               ...           ...           ...           ...   \n",
      "100363         113.56          0.87          0.00          0.00   \n",
      "100364         317.56          4.25          0.01          0.00   \n",
      "100365         411.37         10.27          0.43          0.00   \n",
      "100366         433.76          8.96          0.59          0.00   \n",
      "100367         386.05          4.27          0.14          0.00   \n",
      "\n",
      "        climate_hdd65  ...  climate_r95ptot  climate_tr23  climate_tr26  \\\n",
      "396           1082.52  ...            41.46          0.00          0.00   \n",
      "397            938.61  ...            45.12          0.00          0.00   \n",
      "398            788.72  ...            10.80          0.00          0.00   \n",
      "399            442.36  ...            19.35          0.26          0.03   \n",
      "400            183.16  ...             4.43          3.19          0.41   \n",
      "...               ...  ...              ...           ...           ...   \n",
      "100363          53.37  ...             1.93          0.03          0.00   \n",
      "100364           4.99  ...             3.99          1.07          0.19   \n",
      "100365           7.39  ...            33.45          3.72          0.61   \n",
      "100366           2.94  ...             1.87          5.68          1.01   \n",
      "100367           1.11  ...           115.62          4.97          0.73   \n",
      "\n",
      "        climate_tr29  climate_tr32  climate_fd  climate_id  month_id  \\\n",
      "396             0.00           0.0       21.25       12.08       121   \n",
      "397             0.00           0.0       17.45       10.36       122   \n",
      "398             0.00           0.0       15.64        6.36       123   \n",
      "399             0.00           0.0        9.05        2.33       124   \n",
      "400             0.00           0.0        3.08        0.31       125   \n",
      "...              ...           ...         ...         ...       ...   \n",
      "100363          0.00           0.0        0.00        0.00       524   \n",
      "100364          0.00           0.0        0.00        0.00       525   \n",
      "100365          0.04           0.0        0.00        0.00       526   \n",
      "100366          0.05           0.0        0.00        0.00       527   \n",
      "100367          0.03           0.0        0.00        0.00       528   \n",
      "\n",
      "        valid_id  c_id  \n",
      "396         True   133  \n",
      "397         True   133  \n",
      "398         True   133  \n",
      "399         True   133  \n",
      "400         True   133  \n",
      "...          ...   ...  \n",
      "100363      True   158  \n",
      "100364      True   158  \n",
      "100365      True   158  \n",
      "100366      True   158  \n",
      "100367      True   158  \n",
      "\n",
      "[77766 rows x 34 columns]\n"
     ]
    }
   ],
   "source": [
    "# Step 1: Sort the data by 'Country', 'c_id', and 'month_id' to ensure the latest month is at the end for each combination\n",
    "climate_variables_df_c_id_1 = climate_variables_df_c_id_1.sort_values(by=['Country', 'c_id', 'month_id'], ascending=[True, True, True])\n",
    "\n",
    "# Step 2: Identify the latest 'c_id' for each 'Country'\n",
    "latest_cid_per_country = climate_variables_df_c_id_1.groupby('Country').tail(1)['c_id']\n",
    "\n",
    "# Step 3: Filter the dataset to keep only the rows with the latest 'c_id' for each 'Country'\n",
    "climate_variables_df_c_id_2 = climate_variables_df_c_id_1[climate_variables_df_c_id_1['c_id'].isin(latest_cid_per_country)]\n",
    "\n",
    "# Step 4: Verify the filtered dataset\n",
    "print(climate_variables_df_c_id_1)\n"
   ]
  },
  {
   "cell_type": "markdown",
   "metadata": {},
   "source": [
    "--------------------------\n",
    "\n",
    "# Problem: Testing how country data is structured in the original data. Potential issue with c_id column.\n",
    "- Basically: Does the \"SDN\" data before 2011 only represent data from Northern Sudan in its current borders, or does it represent all of Sudan?\n",
    "- Same question relates to other countries with territorial changes."
   ]
  },
  {
   "cell_type": "code",
   "execution_count": null,
   "metadata": {},
   "outputs": [],
   "source": [
    "# Checking precipitation, as there is probably a bigger difference between the two countries.\n",
    "\n",
    "# Filter data for Sudan pre- and post-July 2011\n",
    "sudan_pre_july_2011 = error_c_filtered_2[error_c_filtered_2['c_id'] == 59]\n",
    "sudan_post_july_2011 = error_c_filtered_2[error_c_filtered_2['c_id'] == 245]\n",
    "south_sudan_post_july_2011 = error_c_filtered_2[error_c_filtered_2['c_id'] == 246]\n",
    "\n",
    "# Calculate summary statistics for the variable 'climate_pr'\n",
    "summary_pre = sudan_pre_july_2011['climate_pr'].describe()\n",
    "summary_post = sudan_post_july_2011['climate_pr'].describe()\n",
    "summary_post_ssd = south_sudan_post_july_2011['climate_pr'].describe()\n",
    "\n",
    "# Print the summaries\n",
    "print(\"Summary statistics for 'climate_pr' before July 2011 (c_id = 59):\\n\", summary_pre)\n",
    "print(\"\\nSummary statistics for 'climate_pr' after July 2011 (c_id = 245):\\n\", summary_post)\n",
    "\n",
    "# Optional: Check if the summaries are identical\n",
    "identical = summary_pre.equals(summary_post)\n",
    "print(\"\\nAre the summary statistics for Sudan identical?\", identical)\n",
    "\n",
    "# Print the summary statistics for South Sudan\n",
    "print(\"\\nSummary statistics for 'climate_pr' for SOUTH SUDAN after July 2011 (c_id = 246):\\n\", summary_post_ssd)\n"
   ]
  },
  {
   "cell_type": "markdown",
   "metadata": {},
   "source": [
    "#### Conclusion: Precipitation in the different territorial variations of Sudan\n",
    "- The precipitation for Sudan is very similar in both periods.\n",
    "- The precipitation is much higher in South Sudan in post-2011 compared to the post-2011 numbers from (North) Sudan.\n",
    "\n",
    "- This suggests, that the SDN data is always exlusively for Northern Sudan, and that the data for South Sudan is separate.\n",
    "\n",
    "\n",
    "--------\n",
    "\n",
    "# Overall Conclusion: Country-Level Data Strcuture\n",
    "- This suggests that the data is always structured along the current geographic specifications of global gountries today.\n",
    "- Therefore, previous geographic configurations for countries, which have independent c_id's in VIEWS, are not covered by this data.\n",
    "\n",
    "#### Problem\n",
    "- Therefore, the current coding is likely incorrect.\n",
    "    - The current coding suggests that pre 2011 data represents all of Sudan.\n",
    "    - That is, because the iso3-country code \"SDN\" is coded as the c_id \"59\" before July 2011 and as \"245\" post July 2011.\n",
    "    - However, that is incorrect. the c_id 59 represents all of Sudan. The data is however likely always restricted to represent Northern Sudan.\n",
    "- This problem also extends to other countries. For example, Åland is coded as an independent country. By ommitting it, we lose all data on Åland, as the Åland data is not integrated into Finland data.\n",
    "\n",
    "\n",
    "#### Potential Solutions\n",
    "1) Approach 1: Ignore the issue and keep the data as is. Result: Wrong Sudan data for before 2011. => climate_variables_df_c_id_1\n",
    "2) Approach 2: Omit pre-2011 data for \"whole\" Sudan. (Same for similar countries that had territorial changes.) => Most accurate adoption of data. Most missing data. = climate_variables_df_c_id_2\n",
    "3) (Approach 3): Calculate pre-2011 data for Sudan on the basis of data from South and North Sudan. Something like the mean. But this would be very assumptive.\n"
   ]
  }
 ],
 "metadata": {
  "kernelspec": {
   "display_name": "viewser",
   "language": "python",
   "name": "python3"
  },
  "language_info": {
   "codemirror_mode": {
    "name": "ipython",
    "version": 3
   },
   "file_extension": ".py",
   "mimetype": "text/x-python",
   "name": "python",
   "nbconvert_exporter": "python",
   "pygments_lexer": "ipython3",
   "version": "3.11.10"
  }
 },
 "nbformat": 4,
 "nbformat_minor": 2
}
