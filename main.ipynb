{
 "cells": [
  {
   "cell_type": "markdown",
   "metadata": {},
   "source": [
    "# Set Up: Jupyter Notebook"
   ]
  },
  {
   "cell_type": "code",
   "execution_count": 1,
   "metadata": {},
   "outputs": [
    {
     "name": "stdout",
     "output_type": "stream",
     "text": [
      "Version: 2.1.0\n"
     ]
    }
   ],
   "source": [
    "# Import the required libraries\n",
    "import requests\n",
    "import pandas as pd\n",
    "\n",
    "# ----------------- #\n",
    "\n",
    "# ingester3n // Run in Terminal:\n",
    "! pip show ingester3 | grep Version \n",
    "\n",
    "# Pandas extensions\n",
    "from ingester3.extensions import *\n",
    "\n",
    "# Set up for chache.\n",
    "from ingester3.scratch import cache_manager"
   ]
  },
  {
   "cell_type": "markdown",
   "metadata": {},
   "source": [
    "# Download: Climate Data from CRU and ERA5 data sats\n",
    "- Reasoning for variable choice\n",
    "    - Document with more extensive reasoning for why a variable should or should not be included in bruno-gbl's repository: https://github.com/bruno-gbl/climate-data-country/blob/main/docs/Variables%20Overview.md\n",
    "    - Document also includes information on the variables used in Garret's script to ingest climate variables at the pgm level.\n",
    "    - Document also includes more detailed information about the specific coding of the different variables.\n",
    "- CRU vs. ERA5 variables:\n",
    "    - In this script, each climate data variable is either from the CRU or ERA5 climate data set. Both are available through the same World bank Climate Data portal.\n",
    "    - However, their API and the time-span of available data differs slightly. Therefore, they are treated sligthly different before being merged into one dataset.\n",
    "- Data Specifications on WorldBank Climate Data Platform:\n",
    "    - CRU data set > timeseries > monthly > 1901-2022 > mean > model \"ts4.07\"\n",
    "    - ERA5 data set > timeseries > monthly > 1950-2023 > mean > model \"era5\" > model label \"x0.25\""
   ]
  },
  {
   "cell_type": "markdown",
   "metadata": {},
   "source": [
    "#### Define Function: Download CRU data"
   ]
  },
  {
   "cell_type": "code",
   "execution_count": 3,
   "metadata": {},
   "outputs": [],
   "source": [
    "# The API Structure:\n",
    "# https://cckpapi.worldbank.org/cckp/v1/cru-x0.5_timeseries_{variable_name}_timeseries_monthly_1901-2022_mean_historical_cru_ts4.07_mean/all_countries?_format=json\n",
    "\n",
    "# Function downloading the climate data from the World Bank Climate Knowledge Portal and turning it into a pandas DataFrame\n",
    "def download_cru_data(cru_variable):\n",
    "        \n",
    "        # Define the URL for the JSON file\n",
    "        url_climate_data = f\"https://cckpapi.worldbank.org/cckp/v1/cru-x0.5_timeseries_{cru_variable}_timeseries_monthly_1901-2022_mean_historical_cru_ts4.07_mean/all_countries?_format=json\"\n",
    "        # Fetch the JSON data using a GET request\n",
    "        response_climate_data = requests.get(url_climate_data)\n",
    "    \n",
    "        # Parse the JSON response into a Python dictionary, if the request was successful\n",
    "        if response_climate_data.status_code == 200:\n",
    "            climate_data_json = response_climate_data.json()\n",
    "        else:\n",
    "            print(f\"Failed to fetch data.\")\n",
    "            climate_data_json = None\n",
    "    \n",
    "        # Flatten the nested structure into a list of dictionaries\n",
    "        climate_data_json_only_data = climate_data_json[\"data\"]\n",
    "\n",
    "        rows = []\n",
    "\n",
    "        for country, timeseries in climate_data_json_only_data.items():\n",
    "            for date, value in timeseries.items():\n",
    "                rows.append({\"Country\": country, \"Date\": date, \"Value\": value})\n",
    "    \n",
    "        # Convert the list into a pandas DataFrame\n",
    "        climate_data_df = pd.DataFrame(rows)\n",
    "    \n",
    "        # Return the DataFrame for further use\n",
    "        return climate_data_df\n"
   ]
  },
  {
   "cell_type": "markdown",
   "metadata": {},
   "source": [
    "#### Download: CRU variables that should definitely be adopted."
   ]
  },
  {
   "cell_type": "code",
   "execution_count": 4,
   "metadata": {},
   "outputs": [],
   "source": [
    "# tas // Average Mean Surface Air Temperature // G: Only relative temperature variables\n",
    "tas_cru_df = download_cru_data(\"tas\")\n",
    "\n",
    "# tasmax // Average Maximum Surface Air Temperature // G: Only relative temperature variables\n",
    "tasmax_cru_df = download_cru_data(\"tasmax\")\n",
    "\n",
    "# tasmin // Average Minimum Surface Air Temperature // G: Only relative temperature variables\n",
    "tasmin_cru_df = download_cru_data(\"tasmin\")\n"
   ]
  },
  {
   "cell_type": "markdown",
   "metadata": {},
   "source": [
    "#### Define Function: Download ERA5 data"
   ]
  },
  {
   "cell_type": "code",
   "execution_count": 5,
   "metadata": {},
   "outputs": [],
   "source": [
    "# The API Structure:\n",
    "# https://cckpapi.worldbank.org/cckp/v1/era5-x0.25_timeseries_{variable_name}_timeseries_monthly_1950-2023_mean_historical_era5_x0.25_mean/all_countries?_format=json\n",
    "\n",
    "# Function downloading the climate data from the World Bank Climate Knowledge Portal and turning it into a pandas DataFrame\n",
    "def download_era5_data(era5_variable):\n",
    "        \n",
    "        # Define the URL for the JSON file\n",
    "        url_climate_data = f\"https://cckpapi.worldbank.org/cckp/v1/era5-x0.25_timeseries_{era5_variable}_timeseries_monthly_1950-2023_mean_historical_era5_x0.25_mean/all_countries?_format=json\"\n",
    "        # Fetch the JSON data using a GET request\n",
    "        response_climate_data = requests.get(url_climate_data)\n",
    "    \n",
    "        # Parse the JSON response into a Python dictionary, if the request was successful\n",
    "        if response_climate_data.status_code == 200:\n",
    "            climate_data_json = response_climate_data.json()\n",
    "        else:\n",
    "            print(f\"Failed to fetch data.\")\n",
    "            climate_data_json = None\n",
    "    \n",
    "        # Flatten the nested structure into a list of dictionaries\n",
    "        climate_data_json_only_data = climate_data_json[\"data\"]\n",
    "\n",
    "        rows = []\n",
    "\n",
    "        for country, timeseries in climate_data_json_only_data.items():\n",
    "            for date, value in timeseries.items():\n",
    "                rows.append({\"Country\": country, \"Date\": date, \"Value\": value})\n",
    "    \n",
    "        # Convert the list into a pandas DataFrame\n",
    "        climate_data_df = pd.DataFrame(rows)\n",
    "    \n",
    "        # Return the DataFrame for further use\n",
    "        return climate_data_df"
   ]
  },
  {
   "cell_type": "markdown",
   "metadata": {},
   "source": [
    "#### Download: ERA5 variables that should definitely be adopted."
   ]
  },
  {
   "cell_type": "code",
   "execution_count": 6,
   "metadata": {},
   "outputs": [],
   "source": [
    "# cdd65 // Cooling Degree Days (ref-65°F)\n",
    "cdd65_era5_df = download_era5_data(\"cdd65\")\n",
    "\n",
    "# hd35 // Number of Hot Days (Tmax > 35°C)\n",
    "hd35_era5_df = download_era5_data(\"hd35\")\n",
    "\n",
    "# hd40 // Number of Hot Days (Tmax > 40°C)\n",
    "hd40_era5_df = download_era5_data(\"hd40\")\n",
    "\n",
    "# hd42 // Number of Hot Days (Tmax > 42°C)\n",
    "hd42_era5_df = download_era5_data(\"hd42\")\n",
    "\n",
    "# hdd65 // Heating degree days (ref-65°F)\n",
    "hdd65_era5_df = download_era5_data(\"hdd65\")\n",
    "\n",
    "# hi35 // Number of Days with Heat Index > 35°C\n",
    "hi35_era5_df = download_era5_data(\"hi35\")\n",
    "\n",
    "# hi37 // Number of Days with Heat Index > 37°C\n",
    "hi37_era5_df = download_era5_data(\"hi37\")\n",
    "\n",
    "# hurs // Relative Humidity\n",
    "hurs_era5_df = download_era5_data(\"hurs\")\n",
    "\n",
    "# prpercnt // Precipitation Percent Change\n",
    "prpercnt_era5_df = download_era5_data(\"prpercnt\")\n",
    "\n",
    "# rx1day // Average Largest 1-Day Precipitation\n",
    "rx1day_era5_df = download_era5_data(\"rx1day\")\n",
    "\n",
    "# rx5day // Average Largest 5-Day Cumulative Precipitation\n",
    "rx5day_era5_df = download_era5_data(\"rx5day\")\n",
    "\n",
    "# tnn // Minimum of Daily Min-Temperature\n",
    "tnn_era5_df = download_era5_data(\"tnn\")\n",
    "\n",
    "# txx // Maximum of Daily Max-Temperature\n",
    "txx_era5_df = download_era5_data(\"txx\")\n"
   ]
  },
  {
   "cell_type": "markdown",
   "metadata": {},
   "source": [
    "#### Download: ERA5 variables that should probably be adopted."
   ]
  },
  {
   "cell_type": "code",
   "execution_count": 7,
   "metadata": {},
   "outputs": [],
   "source": [
    "# pr // Precipitation // G: \"Total wet day precipitation\" // similar, not identical to existing \"pr\" variable // This variable is average precipitation over a given time // Potentially also includes smaller variation of rain below 1mm\n",
    "pr_era5_df = download_era5_data(\"pr\")\n",
    "\n",
    "# hd30 // Number of Hot Days (Tmax > 30°C) //  G: - // Overlaping with existing hd35, hd40, hd42\n",
    "hd30_era5_df = download_era5_data(\"hd30\")\n",
    "\n",
    "# hd50 // Number of Hot Days (Tmax > 50°C) // G: - // Only daily maximum temperature per month/year.\n",
    "hd50_era5_df = download_era5_data(\"hd50\")\n",
    "\n",
    "# hi39 // Number of Days with Heat Index > 39°C // Did not include variable that was available\n",
    "hi39_era5_df = download_era5_data(\"hi39\")\n",
    "\n",
    "# hi41 // Number of Days with Heat Index > 41°C // G: - // Did not include variable that was available\n",
    "hi41_era5_df = download_era5_data(\"hi41\")\n",
    "\n",
    "# r50mm // Number of Days with Precipitation >50mm // G: - // Only \"Very heavy precipitation days\" = days with more than 20mm\n",
    "r50mm_era5_df = download_era5_data(\"r50mm\")\n",
    "\n",
    "# r95ptot // Precipitation amount during wettest days //  G: - // Did not include identical variable \"Very wet day precipitation\"\n",
    "r95ptot_era5_df = download_era5_data(\"r95ptot\")\n",
    "\n",
    "# tr23 // Number of Tropical Nights (T-min > 23°C) // [Very similar to \"tr\"]\n",
    "tr23_era5_df = download_era5_data(\"tr23\")\n",
    "\n",
    "# tr26 // Number of Tropical Nights (T-min > 26°C) // [Very similar to \"tr\"]\n",
    "tr26_era5_df = download_era5_data(\"tr26\")\n",
    "\n",
    "# tr29 // Number of Tropical Nights (T-min > 29°C) // [Very similar to \"tr\"]\n",
    "tr29_era5_df = download_era5_data(\"tr29\")\n",
    "\n",
    "# tr32 // Number of Tropical Nights (T-min > 32°C) // [Very similar to \"tr\"]\n",
    "tr32_era5_df = download_era5_data(\"tr32\")\n"
   ]
  },
  {
   "cell_type": "markdown",
   "metadata": {},
   "source": [
    "#### Download: ERA5 variables that should probably NOT be adopted."
   ]
  },
  {
   "cell_type": "code",
   "execution_count": 8,
   "metadata": {},
   "outputs": [],
   "source": [
    "# fd // Number of Frost Days (Tmin < 0°C) // G: Almost identical variable // G: count variable // Here: Average over time, i.e. data period. Smoothed-out, long-term perspective of Frost Days; Less interesting for forecasting.\n",
    "fd_era5_df = download_era5_data(\"fd\")\n",
    "\n",
    "# id // Number of Ice Days (Tmax < 0°C) // G: Almost identical variable // G: count variable // Here: Average over time, i.e. data period. Smoothed-out, long-term perspective of Ice Days; Less interesting for forecasting.\n",
    "id_era5_df = download_era5_data(\"id\")\n"
   ]
  },
  {
   "cell_type": "markdown",
   "metadata": {},
   "source": [
    "# Data Wrangling: Preparing for ingestion"
   ]
  },
  {
   "cell_type": "markdown",
   "metadata": {},
   "source": [
    "#### Turning all variable-specific dataframes into one dictionary of dataframes\n",
    "- Easier filtering for which variables to include in the ingestion.\n",
    "- Simplified code."
   ]
  },
  {
   "cell_type": "code",
   "execution_count": null,
   "metadata": {},
   "outputs": [],
   "source": [
    "# Creating a dictiopnary of dataframes with the respective variable names as labels, to be able name the value columns according to the variable name.\n",
    "dataframes_dict = {\n",
    "    # CRU variables that should definitely be adopted.\n",
    "    \"tas\": tas_cru_df,\n",
    "    \"tasmax\": tasmax_cru_df,\n",
    "    \"tasmin\": tasmin_cru_df,\n",
    "    # ERA5 variables that should definitely be adopted.\n",
    "    \"cdd65\": cdd65_era5_df,\n",
    "    \"hd35\": hd35_era5_df,\n",
    "    \"hd40\": hd40_era5_df,\n",
    "    \"hd42\": hd42_era5_df,\n",
    "    \"hdd65\": hdd65_era5_df,\n",
    "    \"hi35\": hi35_era5_df,\n",
    "    \"hi37\": hi37_era5_df,\n",
    "    \"hurs\": hurs_era5_df,\n",
    "    \"prpercnt\": prpercnt_era5_df,\n",
    "    \"rx1day\": rx1day_era5_df,\n",
    "    \"rx5day\": rx5day_era5_df,\n",
    "    \"tnn\": tnn_era5_df,\n",
    "    \"txx\": txx_era5_df,\n",
    "    # ERA5 variables that should probably be adopted.\n",
    "    \"pr\": pr_era5_df,\n",
    "    \"hd30\": hd30_era5_df,\n",
    "    \"hd50\": hd50_era5_df,\n",
    "    \"hi39\": hi39_era5_df,\n",
    "    \"hi41\": hi41_era5_df,\n",
    "    \"r50mm\": r50mm_era5_df,\n",
    "    \"r95ptot\": r95ptot_era5_df,\n",
    "    \"tr23\": tr23_era5_df,\n",
    "    \"tr26\": tr26_era5_df,\n",
    "    \"tr29\": tr29_era5_df,\n",
    "    \"tr32\": tr32_era5_df,\n",
    "    # ERA5 variables that should probably NOT be adopted.\n",
    "    \"fd\": fd_era5_df,\n",
    "    \"id\": id_era5_df,\n",
    "}\n",
    "\n",
    "# Delete the standalone variable-specific dataframes to avoid confusion\n",
    "for key in dataframes_dict.keys():\n",
    "    if key + \"_cru_df\" in globals():\n",
    "        del globals()[key + \"_cru_df\"]\n",
    "    if key + \"_era5_df\" in globals():\n",
    "        del globals()[key + \"_era5_df\"]\n",
    "\n",
    "# Delete 'key' variable after the loop finishes\n",
    "del key"
   ]
  },
  {
   "cell_type": "markdown",
   "metadata": {},
   "source": [
    "#### Bring all dataframes in the dictionary to the same time period: Start from January 1990\n",
    "- Convert the \"Date\" column to a datetime object\n",
    "- Filter the data to only include data from January 1990 onwards"
   ]
  },
  {
   "cell_type": "code",
   "execution_count": 10,
   "metadata": {},
   "outputs": [],
   "source": [
    "# Create a function to filter the time period to only include data from January 1990 onwards\n",
    "def filter_timeseries_1990(df):\n",
    "    # Convert the \"Date\" column to a datetime object\n",
    "    df[\"Date\"] = pd.to_datetime(df[\"Date\"])\n",
    "    # Filter the DataFrame to only include data from January 1990 onwards\n",
    "    return df[df[\"Date\"] >= \"1990-01-01\"]\n",
    "\n",
    "# Apply filtering to all DataFrames in the dictionary\n",
    "dataframes_dict = {key: filter_timeseries_1990(df) for key, df in dataframes_dict.items()}"
   ]
  },
  {
   "cell_type": "markdown",
   "metadata": {},
   "source": [
    "#### Turn all variables into one dataframe"
   ]
  },
  {
   "cell_type": "code",
   "execution_count": 11,
   "metadata": {},
   "outputs": [],
   "source": [
    "# Function to merge dataframes from a dictionary into a single DataFrame\n",
    "def merge_datasets_from_dict(dataframes):\n",
    "    # Initialize an empty DataFrame to start merging\n",
    "    merged_df = pd.DataFrame()\n",
    "\n",
    "    # Iterate through the dictionary\n",
    "    for var_name, df in dataframes.items():\n",
    "        # Check if the DataFrame has the expected structure\n",
    "        if set(df.columns) != {\"Country\", \"Date\", \"Value\"}:\n",
    "            raise ValueError(f\"DataFrame for '{var_name}' does not have the expected columns: {df.columns}\")\n",
    "        \n",
    "        # Rename the 'Value' column to the variable name\n",
    "        df = df.rename(columns={\"Value\": var_name})\n",
    "\n",
    "        # Merge with the existing DataFrame\n",
    "        if merged_df.empty:\n",
    "            merged_df = df\n",
    "        else:\n",
    "            merged_df = pd.merge(merged_df, df, on=[\"Country\", \"Date\"], how=\"outer\")\n",
    "    \n",
    "    return merged_df\n",
    "\n",
    "# Execute function and merge all DataFrames\n",
    "merged_df = merge_datasets_from_dict(dataframes_dict)"
   ]
  },
  {
   "cell_type": "markdown",
   "metadata": {},
   "source": [
    "## Data Wrangling: Turn merged data set of all climate variables into a suitable VIEWS format\n",
    "- Change Country Codes\n",
    "- Change Month Codes\n",
    "- Commands based on ingester3\n"
   ]
  },
  {
   "cell_type": "code",
   "execution_count": 12,
   "metadata": {},
   "outputs": [
    {
     "ename": "KeyError",
     "evalue": "0",
     "output_type": "error",
     "traceback": [
      "\u001b[0;31m---------------------------------------------------------------------------\u001b[0m",
      "\u001b[0;31mValueError\u001b[0m                                Traceback (most recent call last)",
      "File \u001b[0;32m~/miniconda3/envs/viewser/lib/python3.11/site-packages/pandas/core/indexes/range.py:391\u001b[0m, in \u001b[0;36mRangeIndex.get_loc\u001b[0;34m(self, key, method, tolerance)\u001b[0m\n\u001b[1;32m    390\u001b[0m \u001b[38;5;28;01mtry\u001b[39;00m:\n\u001b[0;32m--> 391\u001b[0m     \u001b[38;5;28;01mreturn\u001b[39;00m \u001b[38;5;28;43mself\u001b[39;49m\u001b[38;5;241;43m.\u001b[39;49m\u001b[43m_range\u001b[49m\u001b[38;5;241;43m.\u001b[39;49m\u001b[43mindex\u001b[49m\u001b[43m(\u001b[49m\u001b[43mnew_key\u001b[49m\u001b[43m)\u001b[49m\n\u001b[1;32m    392\u001b[0m \u001b[38;5;28;01mexcept\u001b[39;00m \u001b[38;5;167;01mValueError\u001b[39;00m \u001b[38;5;28;01mas\u001b[39;00m err:\n",
      "\u001b[0;31mValueError\u001b[0m: 0 is not in range",
      "\nThe above exception was the direct cause of the following exception:\n",
      "\u001b[0;31mKeyError\u001b[0m                                  Traceback (most recent call last)",
      "Cell \u001b[0;32mIn[12], line 8\u001b[0m\n\u001b[1;32m      6\u001b[0m climate_variables_df \u001b[38;5;241m=\u001b[39m merged_df\n\u001b[1;32m      7\u001b[0m climate_variables_df \u001b[38;5;241m=\u001b[39m pd\u001b[38;5;241m.\u001b[39mDataFrame\u001b[38;5;241m.\u001b[39mcm\u001b[38;5;241m.\u001b[39mfrom_datetime(climate_variables_df, datetime_col\u001b[38;5;241m=\u001b[39m\u001b[38;5;124m'\u001b[39m\u001b[38;5;124mDate\u001b[39m\u001b[38;5;124m'\u001b[39m)\n\u001b[0;32m----> 8\u001b[0m climate_variables_df \u001b[38;5;241m=\u001b[39m \u001b[43mpd\u001b[49m\u001b[38;5;241;43m.\u001b[39;49m\u001b[43mDataFrame\u001b[49m\u001b[38;5;241;43m.\u001b[39;49m\u001b[43mcm\u001b[49m\u001b[38;5;241;43m.\u001b[39;49m\u001b[43mfrom_iso\u001b[49m\u001b[43m(\u001b[49m\u001b[43mclimate_variables_df\u001b[49m\u001b[43m,\u001b[49m\u001b[43m \u001b[49m\u001b[43miso_col\u001b[49m\u001b[38;5;241;43m=\u001b[39;49m\u001b[38;5;124;43m'\u001b[39;49m\u001b[38;5;124;43mCountry\u001b[39;49m\u001b[38;5;124;43m'\u001b[39;49m\u001b[43m,\u001b[49m\u001b[43m \u001b[49m\u001b[43mmonth_col\u001b[49m\u001b[38;5;241;43m=\u001b[39;49m\u001b[38;5;28;43;01mNone\u001b[39;49;00m\u001b[43m)\u001b[49m \u001b[38;5;66;03m#Looks like a problem to call on the VIEWS databank or so. Fix tomorrow.\u001b[39;00m\n",
      "File \u001b[0;32m~/miniconda3/envs/viewser/lib/python3.11/site-packages/ingester3/extensions.py:206\u001b[0m, in \u001b[0;36mCAccessor.from_iso\u001b[0;34m(cls, df, iso_col, month_col)\u001b[0m\n\u001b[1;32m    204\u001b[0m     \u001b[38;5;28;01mreturn\u001b[39;00m z\n\u001b[1;32m    205\u001b[0m \u001b[38;5;28;01mif\u001b[39;00m month_col \u001b[38;5;129;01mis\u001b[39;00m \u001b[38;5;28;01mNone\u001b[39;00m:\n\u001b[0;32m--> 206\u001b[0m     z[\u001b[38;5;124m'\u001b[39m\u001b[38;5;124mc_id\u001b[39m\u001b[38;5;124m'\u001b[39m] \u001b[38;5;241m=\u001b[39m \u001b[43mz\u001b[49m\u001b[38;5;241;43m.\u001b[39;49m\u001b[43mapply\u001b[49m\u001b[43m(\u001b[49m\u001b[38;5;28;43;01mlambda\u001b[39;49;00m\u001b[43m \u001b[49m\u001b[43mrow\u001b[49m\u001b[43m:\u001b[49m\u001b[43m \u001b[49m\u001b[43mCountry\u001b[49m\u001b[38;5;241;43m.\u001b[39;49m\u001b[43mfrom_iso\u001b[49m\u001b[43m(\u001b[49m\u001b[43miso\u001b[49m\u001b[38;5;241;43m=\u001b[39;49m\u001b[43mrow\u001b[49m\u001b[43m[\u001b[49m\u001b[43miso_col\u001b[49m\u001b[43m]\u001b[49m\u001b[38;5;241;43m.\u001b[39;49m\u001b[43mstrip\u001b[49m\u001b[43m(\u001b[49m\u001b[43m)\u001b[49m\u001b[38;5;241;43m.\u001b[39;49m\u001b[43mupper\u001b[49m\u001b[43m(\u001b[49m\u001b[43m)\u001b[49m\u001b[43m)\u001b[49m\u001b[38;5;241;43m.\u001b[39;49m\u001b[43mid\u001b[49m\u001b[43m,\u001b[49m\u001b[43m \u001b[49m\u001b[43maxis\u001b[49m\u001b[38;5;241;43m=\u001b[39;49m\u001b[38;5;241;43m1\u001b[39;49m\u001b[43m)\u001b[49m\n\u001b[1;32m    207\u001b[0m \u001b[38;5;28;01melse\u001b[39;00m:\n\u001b[1;32m    208\u001b[0m     z[\u001b[38;5;124m'\u001b[39m\u001b[38;5;124mc_id\u001b[39m\u001b[38;5;124m'\u001b[39m] \u001b[38;5;241m=\u001b[39m z\u001b[38;5;241m.\u001b[39mapply(\u001b[38;5;28;01mlambda\u001b[39;00m row: Country\u001b[38;5;241m.\u001b[39mfrom_iso(iso\u001b[38;5;241m=\u001b[39mrow[iso_col]\u001b[38;5;241m.\u001b[39mstrip()\u001b[38;5;241m.\u001b[39mupper(),\n\u001b[1;32m    209\u001b[0m                                                       month_id\u001b[38;5;241m=\u001b[39m\u001b[38;5;28mint\u001b[39m(row[month_col]))\u001b[38;5;241m.\u001b[39mid, axis\u001b[38;5;241m=\u001b[39m\u001b[38;5;241m1\u001b[39m)\n",
      "File \u001b[0;32m~/miniconda3/envs/viewser/lib/python3.11/site-packages/pandas/core/frame.py:9568\u001b[0m, in \u001b[0;36mDataFrame.apply\u001b[0;34m(self, func, axis, raw, result_type, args, **kwargs)\u001b[0m\n\u001b[1;32m   9557\u001b[0m \u001b[38;5;28;01mfrom\u001b[39;00m \u001b[38;5;21;01mpandas\u001b[39;00m\u001b[38;5;21;01m.\u001b[39;00m\u001b[38;5;21;01mcore\u001b[39;00m\u001b[38;5;21;01m.\u001b[39;00m\u001b[38;5;21;01mapply\u001b[39;00m \u001b[38;5;28;01mimport\u001b[39;00m frame_apply\n\u001b[1;32m   9559\u001b[0m op \u001b[38;5;241m=\u001b[39m frame_apply(\n\u001b[1;32m   9560\u001b[0m     \u001b[38;5;28mself\u001b[39m,\n\u001b[1;32m   9561\u001b[0m     func\u001b[38;5;241m=\u001b[39mfunc,\n\u001b[0;32m   (...)\u001b[0m\n\u001b[1;32m   9566\u001b[0m     kwargs\u001b[38;5;241m=\u001b[39mkwargs,\n\u001b[1;32m   9567\u001b[0m )\n\u001b[0;32m-> 9568\u001b[0m \u001b[38;5;28;01mreturn\u001b[39;00m \u001b[43mop\u001b[49m\u001b[38;5;241;43m.\u001b[39;49m\u001b[43mapply\u001b[49m\u001b[43m(\u001b[49m\u001b[43m)\u001b[49m\u001b[38;5;241m.\u001b[39m__finalize__(\u001b[38;5;28mself\u001b[39m, method\u001b[38;5;241m=\u001b[39m\u001b[38;5;124m\"\u001b[39m\u001b[38;5;124mapply\u001b[39m\u001b[38;5;124m\"\u001b[39m)\n",
      "File \u001b[0;32m~/miniconda3/envs/viewser/lib/python3.11/site-packages/pandas/core/apply.py:764\u001b[0m, in \u001b[0;36mFrameApply.apply\u001b[0;34m(self)\u001b[0m\n\u001b[1;32m    761\u001b[0m \u001b[38;5;28;01melif\u001b[39;00m \u001b[38;5;28mself\u001b[39m\u001b[38;5;241m.\u001b[39mraw:\n\u001b[1;32m    762\u001b[0m     \u001b[38;5;28;01mreturn\u001b[39;00m \u001b[38;5;28mself\u001b[39m\u001b[38;5;241m.\u001b[39mapply_raw()\n\u001b[0;32m--> 764\u001b[0m \u001b[38;5;28;01mreturn\u001b[39;00m \u001b[38;5;28;43mself\u001b[39;49m\u001b[38;5;241;43m.\u001b[39;49m\u001b[43mapply_standard\u001b[49m\u001b[43m(\u001b[49m\u001b[43m)\u001b[49m\n",
      "File \u001b[0;32m~/miniconda3/envs/viewser/lib/python3.11/site-packages/pandas/core/apply.py:891\u001b[0m, in \u001b[0;36mFrameApply.apply_standard\u001b[0;34m(self)\u001b[0m\n\u001b[1;32m    890\u001b[0m \u001b[38;5;28;01mdef\u001b[39;00m \u001b[38;5;21mapply_standard\u001b[39m(\u001b[38;5;28mself\u001b[39m):\n\u001b[0;32m--> 891\u001b[0m     results, res_index \u001b[38;5;241m=\u001b[39m \u001b[38;5;28;43mself\u001b[39;49m\u001b[38;5;241;43m.\u001b[39;49m\u001b[43mapply_series_generator\u001b[49m\u001b[43m(\u001b[49m\u001b[43m)\u001b[49m\n\u001b[1;32m    893\u001b[0m     \u001b[38;5;66;03m# wrap results\u001b[39;00m\n\u001b[1;32m    894\u001b[0m     \u001b[38;5;28;01mreturn\u001b[39;00m \u001b[38;5;28mself\u001b[39m\u001b[38;5;241m.\u001b[39mwrap_results(results, res_index)\n",
      "File \u001b[0;32m~/miniconda3/envs/viewser/lib/python3.11/site-packages/pandas/core/apply.py:907\u001b[0m, in \u001b[0;36mFrameApply.apply_series_generator\u001b[0;34m(self)\u001b[0m\n\u001b[1;32m    904\u001b[0m \u001b[38;5;28;01mwith\u001b[39;00m option_context(\u001b[38;5;124m\"\u001b[39m\u001b[38;5;124mmode.chained_assignment\u001b[39m\u001b[38;5;124m\"\u001b[39m, \u001b[38;5;28;01mNone\u001b[39;00m):\n\u001b[1;32m    905\u001b[0m     \u001b[38;5;28;01mfor\u001b[39;00m i, v \u001b[38;5;129;01min\u001b[39;00m \u001b[38;5;28menumerate\u001b[39m(series_gen):\n\u001b[1;32m    906\u001b[0m         \u001b[38;5;66;03m# ignore SettingWithCopy here in case the user mutates\u001b[39;00m\n\u001b[0;32m--> 907\u001b[0m         results[i] \u001b[38;5;241m=\u001b[39m \u001b[38;5;28;43mself\u001b[39;49m\u001b[38;5;241;43m.\u001b[39;49m\u001b[43mf\u001b[49m\u001b[43m(\u001b[49m\u001b[43mv\u001b[49m\u001b[43m)\u001b[49m\n\u001b[1;32m    908\u001b[0m         \u001b[38;5;28;01mif\u001b[39;00m \u001b[38;5;28misinstance\u001b[39m(results[i], ABCSeries):\n\u001b[1;32m    909\u001b[0m             \u001b[38;5;66;03m# If we have a view on v, we need to make a copy because\u001b[39;00m\n\u001b[1;32m    910\u001b[0m             \u001b[38;5;66;03m#  series_generator will swap out the underlying data\u001b[39;00m\n\u001b[1;32m    911\u001b[0m             results[i] \u001b[38;5;241m=\u001b[39m results[i]\u001b[38;5;241m.\u001b[39mcopy(deep\u001b[38;5;241m=\u001b[39m\u001b[38;5;28;01mFalse\u001b[39;00m)\n",
      "File \u001b[0;32m~/miniconda3/envs/viewser/lib/python3.11/site-packages/ingester3/extensions.py:206\u001b[0m, in \u001b[0;36mCAccessor.from_iso.<locals>.<lambda>\u001b[0;34m(row)\u001b[0m\n\u001b[1;32m    204\u001b[0m     \u001b[38;5;28;01mreturn\u001b[39;00m z\n\u001b[1;32m    205\u001b[0m \u001b[38;5;28;01mif\u001b[39;00m month_col \u001b[38;5;129;01mis\u001b[39;00m \u001b[38;5;28;01mNone\u001b[39;00m:\n\u001b[0;32m--> 206\u001b[0m     z[\u001b[38;5;124m'\u001b[39m\u001b[38;5;124mc_id\u001b[39m\u001b[38;5;124m'\u001b[39m] \u001b[38;5;241m=\u001b[39m z\u001b[38;5;241m.\u001b[39mapply(\u001b[38;5;28;01mlambda\u001b[39;00m row: \u001b[43mCountry\u001b[49m\u001b[38;5;241;43m.\u001b[39;49m\u001b[43mfrom_iso\u001b[49m\u001b[43m(\u001b[49m\u001b[43miso\u001b[49m\u001b[38;5;241;43m=\u001b[39;49m\u001b[43mrow\u001b[49m\u001b[43m[\u001b[49m\u001b[43miso_col\u001b[49m\u001b[43m]\u001b[49m\u001b[38;5;241;43m.\u001b[39;49m\u001b[43mstrip\u001b[49m\u001b[43m(\u001b[49m\u001b[43m)\u001b[49m\u001b[38;5;241;43m.\u001b[39;49m\u001b[43mupper\u001b[49m\u001b[43m(\u001b[49m\u001b[43m)\u001b[49m\u001b[43m)\u001b[49m\u001b[38;5;241m.\u001b[39mid, axis\u001b[38;5;241m=\u001b[39m\u001b[38;5;241m1\u001b[39m)\n\u001b[1;32m    207\u001b[0m \u001b[38;5;28;01melse\u001b[39;00m:\n\u001b[1;32m    208\u001b[0m     z[\u001b[38;5;124m'\u001b[39m\u001b[38;5;124mc_id\u001b[39m\u001b[38;5;124m'\u001b[39m] \u001b[38;5;241m=\u001b[39m z\u001b[38;5;241m.\u001b[39mapply(\u001b[38;5;28;01mlambda\u001b[39;00m row: Country\u001b[38;5;241m.\u001b[39mfrom_iso(iso\u001b[38;5;241m=\u001b[39mrow[iso_col]\u001b[38;5;241m.\u001b[39mstrip()\u001b[38;5;241m.\u001b[39mupper(),\n\u001b[1;32m    209\u001b[0m                                                       month_id\u001b[38;5;241m=\u001b[39m\u001b[38;5;28mint\u001b[39m(row[month_col]))\u001b[38;5;241m.\u001b[39mid, axis\u001b[38;5;241m=\u001b[39m\u001b[38;5;241m1\u001b[39m)\n",
      "File \u001b[0;32m~/miniconda3/envs/viewser/lib/python3.11/site-packages/ingester3/Country.py:143\u001b[0m, in \u001b[0;36mCountry.from_iso\u001b[0;34m(cls, iso, month_id)\u001b[0m\n\u001b[1;32m    141\u001b[0m \u001b[38;5;129m@classmethod\u001b[39m\n\u001b[1;32m    142\u001b[0m \u001b[38;5;28;01mdef\u001b[39;00m \u001b[38;5;21mfrom_iso\u001b[39m(\u001b[38;5;28mcls\u001b[39m, iso, month_id \u001b[38;5;241m=\u001b[39m \u001b[38;5;28;01mNone\u001b[39;00m):\n\u001b[0;32m--> 143\u001b[0m     \u001b[38;5;28;01mreturn\u001b[39;00m \u001b[38;5;28mcls\u001b[39m(\u001b[38;5;28;43mcls\u001b[39;49m\u001b[38;5;241;43m.\u001b[39;49m\u001b[43miso2id\u001b[49m\u001b[43m(\u001b[49m\u001b[43miso\u001b[49m\u001b[43m,\u001b[49m\u001b[43m \u001b[49m\u001b[43mmonth_id\u001b[49m\u001b[43m)\u001b[49m)\n",
      "File \u001b[0;32m~/miniconda3/envs/viewser/lib/python3.11/site-packages/ingester3/Country.py:134\u001b[0m, in \u001b[0;36mCountry.iso2id\u001b[0;34m(iso, month_id)\u001b[0m\n\u001b[1;32m    131\u001b[0m \u001b[38;5;129m@staticmethod\u001b[39m\n\u001b[1;32m    132\u001b[0m \u001b[38;5;28;01mdef\u001b[39;00m \u001b[38;5;21miso2id\u001b[39m(iso, month_id \u001b[38;5;241m=\u001b[39m \u001b[38;5;28;01mNone\u001b[39;00m):\n\u001b[1;32m    133\u001b[0m     iso \u001b[38;5;241m=\u001b[39m \u001b[38;5;28mstr\u001b[39m(iso)\u001b[38;5;241m.\u001b[39mstrip()\u001b[38;5;241m.\u001b[39mupper()\n\u001b[0;32m--> 134\u001b[0m     \u001b[38;5;28;01mreturn\u001b[39;00m \u001b[43mCountry\u001b[49m\u001b[38;5;241;43m.\u001b[39;49m\u001b[43m__extid2id\u001b[49m\u001b[43m(\u001b[49m\u001b[43miso\u001b[49m\u001b[43m,\u001b[49m\u001b[43m \u001b[49m\u001b[43mname_var\u001b[49m\u001b[38;5;241;43m=\u001b[39;49m\u001b[38;5;124;43m'\u001b[39;49m\u001b[38;5;124;43misoab\u001b[39;49m\u001b[38;5;124;43m'\u001b[39;49m\u001b[43m,\u001b[49m\u001b[43m \u001b[49m\u001b[43mmonth_id\u001b[49m\u001b[38;5;241;43m=\u001b[39;49m\u001b[43mmonth_id\u001b[49m\u001b[43m)\u001b[49m\n",
      "File \u001b[0;32m~/miniconda3/envs/viewser/lib/python3.11/site-packages/ingester3/Country.py:116\u001b[0m, in \u001b[0;36mCountry.__extid2id\u001b[0;34m(name_value, name_var, month_id)\u001b[0m\n\u001b[1;32m    114\u001b[0m \u001b[38;5;28;01mif\u001b[39;00m month_id \u001b[38;5;129;01mis\u001b[39;00m \u001b[38;5;28;01mNone\u001b[39;00m:\n\u001b[1;32m    115\u001b[0m     \u001b[38;5;28;01mtry\u001b[39;00m:\n\u001b[0;32m--> 116\u001b[0m         x \u001b[38;5;241m=\u001b[39m \u001b[38;5;28mint\u001b[39m(\u001b[43mdescriptors\u001b[49m\u001b[38;5;241;43m.\u001b[39;49m\u001b[43msort_values\u001b[49m\u001b[43m(\u001b[49m\u001b[43mby\u001b[49m\u001b[38;5;241;43m=\u001b[39;49m\u001b[38;5;124;43m'\u001b[39;49m\u001b[38;5;124;43mmonth_end\u001b[39;49m\u001b[38;5;124;43m'\u001b[39;49m\u001b[43m,\u001b[49m\n\u001b[1;32m    117\u001b[0m \u001b[43m                                        \u001b[49m\u001b[43mascending\u001b[49m\u001b[38;5;241;43m=\u001b[39;49m\u001b[38;5;28;43;01mFalse\u001b[39;49;00m\u001b[43m,\u001b[49m\n\u001b[1;32m    118\u001b[0m \u001b[43m                                        \u001b[49m\u001b[43mignore_index\u001b[49m\u001b[38;5;241;43m=\u001b[39;49m\u001b[38;5;28;43;01mTrue\u001b[39;49;00m\u001b[43m)\u001b[49m\u001b[38;5;241;43m.\u001b[39;49m\u001b[43mloc\u001b[49m\u001b[43m[\u001b[49m\u001b[38;5;241;43m0\u001b[39;49m\u001b[43m]\u001b[49m\u001b[38;5;241m.\u001b[39mid)\n\u001b[1;32m    119\u001b[0m         \u001b[38;5;28;01mreturn\u001b[39;00m x\n\u001b[1;32m    120\u001b[0m     \u001b[38;5;28;01mexcept\u001b[39;00m \u001b[38;5;167;01mValueError\u001b[39;00m:\n",
      "File \u001b[0;32m~/miniconda3/envs/viewser/lib/python3.11/site-packages/pandas/core/indexing.py:1073\u001b[0m, in \u001b[0;36m_LocationIndexer.__getitem__\u001b[0;34m(self, key)\u001b[0m\n\u001b[1;32m   1070\u001b[0m axis \u001b[38;5;241m=\u001b[39m \u001b[38;5;28mself\u001b[39m\u001b[38;5;241m.\u001b[39maxis \u001b[38;5;129;01mor\u001b[39;00m \u001b[38;5;241m0\u001b[39m\n\u001b[1;32m   1072\u001b[0m maybe_callable \u001b[38;5;241m=\u001b[39m com\u001b[38;5;241m.\u001b[39mapply_if_callable(key, \u001b[38;5;28mself\u001b[39m\u001b[38;5;241m.\u001b[39mobj)\n\u001b[0;32m-> 1073\u001b[0m \u001b[38;5;28;01mreturn\u001b[39;00m \u001b[38;5;28;43mself\u001b[39;49m\u001b[38;5;241;43m.\u001b[39;49m\u001b[43m_getitem_axis\u001b[49m\u001b[43m(\u001b[49m\u001b[43mmaybe_callable\u001b[49m\u001b[43m,\u001b[49m\u001b[43m \u001b[49m\u001b[43maxis\u001b[49m\u001b[38;5;241;43m=\u001b[39;49m\u001b[43maxis\u001b[49m\u001b[43m)\u001b[49m\n",
      "File \u001b[0;32m~/miniconda3/envs/viewser/lib/python3.11/site-packages/pandas/core/indexing.py:1312\u001b[0m, in \u001b[0;36m_LocIndexer._getitem_axis\u001b[0;34m(self, key, axis)\u001b[0m\n\u001b[1;32m   1310\u001b[0m \u001b[38;5;66;03m# fall thru to straight lookup\u001b[39;00m\n\u001b[1;32m   1311\u001b[0m \u001b[38;5;28mself\u001b[39m\u001b[38;5;241m.\u001b[39m_validate_key(key, axis)\n\u001b[0;32m-> 1312\u001b[0m \u001b[38;5;28;01mreturn\u001b[39;00m \u001b[38;5;28;43mself\u001b[39;49m\u001b[38;5;241;43m.\u001b[39;49m\u001b[43m_get_label\u001b[49m\u001b[43m(\u001b[49m\u001b[43mkey\u001b[49m\u001b[43m,\u001b[49m\u001b[43m \u001b[49m\u001b[43maxis\u001b[49m\u001b[38;5;241;43m=\u001b[39;49m\u001b[43maxis\u001b[49m\u001b[43m)\u001b[49m\n",
      "File \u001b[0;32m~/miniconda3/envs/viewser/lib/python3.11/site-packages/pandas/core/indexing.py:1260\u001b[0m, in \u001b[0;36m_LocIndexer._get_label\u001b[0;34m(self, label, axis)\u001b[0m\n\u001b[1;32m   1258\u001b[0m \u001b[38;5;28;01mdef\u001b[39;00m \u001b[38;5;21m_get_label\u001b[39m(\u001b[38;5;28mself\u001b[39m, label, axis: \u001b[38;5;28mint\u001b[39m):\n\u001b[1;32m   1259\u001b[0m     \u001b[38;5;66;03m# GH#5567 this will fail if the label is not present in the axis.\u001b[39;00m\n\u001b[0;32m-> 1260\u001b[0m     \u001b[38;5;28;01mreturn\u001b[39;00m \u001b[38;5;28;43mself\u001b[39;49m\u001b[38;5;241;43m.\u001b[39;49m\u001b[43mobj\u001b[49m\u001b[38;5;241;43m.\u001b[39;49m\u001b[43mxs\u001b[49m\u001b[43m(\u001b[49m\u001b[43mlabel\u001b[49m\u001b[43m,\u001b[49m\u001b[43m \u001b[49m\u001b[43maxis\u001b[49m\u001b[38;5;241;43m=\u001b[39;49m\u001b[43maxis\u001b[49m\u001b[43m)\u001b[49m\n",
      "File \u001b[0;32m~/miniconda3/envs/viewser/lib/python3.11/site-packages/pandas/core/generic.py:4056\u001b[0m, in \u001b[0;36mNDFrame.xs\u001b[0;34m(self, key, axis, level, drop_level)\u001b[0m\n\u001b[1;32m   4054\u001b[0m             new_index \u001b[38;5;241m=\u001b[39m index[loc]\n\u001b[1;32m   4055\u001b[0m \u001b[38;5;28;01melse\u001b[39;00m:\n\u001b[0;32m-> 4056\u001b[0m     loc \u001b[38;5;241m=\u001b[39m \u001b[43mindex\u001b[49m\u001b[38;5;241;43m.\u001b[39;49m\u001b[43mget_loc\u001b[49m\u001b[43m(\u001b[49m\u001b[43mkey\u001b[49m\u001b[43m)\u001b[49m\n\u001b[1;32m   4058\u001b[0m     \u001b[38;5;28;01mif\u001b[39;00m \u001b[38;5;28misinstance\u001b[39m(loc, np\u001b[38;5;241m.\u001b[39mndarray):\n\u001b[1;32m   4059\u001b[0m         \u001b[38;5;28;01mif\u001b[39;00m loc\u001b[38;5;241m.\u001b[39mdtype \u001b[38;5;241m==\u001b[39m np\u001b[38;5;241m.\u001b[39mbool_:\n",
      "File \u001b[0;32m~/miniconda3/envs/viewser/lib/python3.11/site-packages/pandas/core/indexes/range.py:393\u001b[0m, in \u001b[0;36mRangeIndex.get_loc\u001b[0;34m(self, key, method, tolerance)\u001b[0m\n\u001b[1;32m    391\u001b[0m         \u001b[38;5;28;01mreturn\u001b[39;00m \u001b[38;5;28mself\u001b[39m\u001b[38;5;241m.\u001b[39m_range\u001b[38;5;241m.\u001b[39mindex(new_key)\n\u001b[1;32m    392\u001b[0m     \u001b[38;5;28;01mexcept\u001b[39;00m \u001b[38;5;167;01mValueError\u001b[39;00m \u001b[38;5;28;01mas\u001b[39;00m err:\n\u001b[0;32m--> 393\u001b[0m         \u001b[38;5;28;01mraise\u001b[39;00m \u001b[38;5;167;01mKeyError\u001b[39;00m(key) \u001b[38;5;28;01mfrom\u001b[39;00m \u001b[38;5;21;01merr\u001b[39;00m\n\u001b[1;32m    394\u001b[0m \u001b[38;5;28mself\u001b[39m\u001b[38;5;241m.\u001b[39m_check_indexing_error(key)\n\u001b[1;32m    395\u001b[0m \u001b[38;5;28;01mraise\u001b[39;00m \u001b[38;5;167;01mKeyError\u001b[39;00m(key)\n",
      "\u001b[0;31mKeyError\u001b[0m: 0"
     ]
    }
   ],
   "source": [
    "# Option 1: Both at the same time\n",
    "# Potential issues: \n",
    "#     The c_id is computed at the month of the datetime_col.\n",
    "#     The tranformation of the date variable might not work: The date variable on the data sets has no \"day\" element. In that case, that would have to be addressed beforehand.\n",
    "\n",
    "climate_variables_df = merged_df\n",
    "climate_variables_df = pd.DataFrame.cm.from_datetime(climate_variables_df, datetime_col='Date')\n",
    "climate_variables_df = pd.DataFrame.cm.from_iso(climate_variables_df, iso_col='Country', month_col=None) #Looks like a problem to call on the VIEWS databank or so. Fix tomorrow.\n"
   ]
  }
 ],
 "metadata": {
  "kernelspec": {
   "display_name": "viewser",
   "language": "python",
   "name": "python3"
  },
  "language_info": {
   "codemirror_mode": {
    "name": "ipython",
    "version": 3
   },
   "file_extension": ".py",
   "mimetype": "text/x-python",
   "name": "python",
   "nbconvert_exporter": "python",
   "pygments_lexer": "ipython3",
   "version": "3.11.10"
  }
 },
 "nbformat": 4,
 "nbformat_minor": 2
}
