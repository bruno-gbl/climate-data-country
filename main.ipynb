{
 "cells": [
  {
   "cell_type": "markdown",
   "metadata": {},
   "source": [
    "# Download: Geonames\n",
    "- Create function \"fetch_geonames()\".\n",
    "- Download the geonames file provided in the API structure document.\n",
    "- Turn the json file into a Pandas DataFrame \"geonames\" for future use."
   ]
  },
  {
   "cell_type": "code",
   "execution_count": 2,
   "metadata": {},
   "outputs": [],
   "source": [
    "# Import the required libraries\n",
    "import requests\n",
    "import pandas as pd\n",
    "\n",
    "# Function downloading the geonames data from the World Bank Climate Knowledge Portal and turning it into a pandas DataFrame\n",
    "def fetch_geonames():\n",
    "         \n",
    "    # Define the URL for the JSON file\n",
    "    url_geonames = \"https://climateknowledgeportal.worldbank.org/themes/cckp/data/geonames.json\"\n",
    "    # Fetch the JSON data using a GET request\n",
    "    response_geonames = requests.get(url_geonames)\n",
    "\n",
    "    # Parse the JSON response into a Python dictionary, if the request was successful\n",
    "    if response_geonames.status_code == 200:\n",
    "        geonames_json = response_geonames.json()\n",
    "    else:\n",
    "        print(f\"Failed to fetch data. Status code: {response.status_code}\")\n",
    "        geonames_json = None\n",
    "\n",
    "    # Flatten the nested structure into a list of dictionaries\n",
    "    flat_geonames_data_json = [\n",
    "        {\n",
    "            \"Country Code\": country_code,\n",
    "            \"Country Name\": details[\"N\"],\n",
    "            \"Subnational Code\": subnational_code,\n",
    "            \"Subnational Name\": subnational_name\n",
    "        }\n",
    "        for country_code, details in geonames_json[\"country\"].items()\n",
    "        for subnational_code, subnational_name in details[\"S\"].items()\n",
    "    ]\n",
    "\n",
    "    # Convert the list into a pandas DataFrame\n",
    "    geonames_df = pd.DataFrame(flat_geonames_data_json)\n",
    "\n",
    "    # Return the DataFrame for further use\n",
    "    return geonames_df\n",
    "\n",
    "# Execute the function and fetch the geonames data\n",
    "geonames_df = fetch_geonames()"
   ]
  },
  {
   "cell_type": "markdown",
   "metadata": {},
   "source": [
    "## Download: Climate Data\n",
    "- ..."
   ]
  }
 ],
 "metadata": {
  "kernelspec": {
   "display_name": "viewser",
   "language": "python",
   "name": "python3"
  },
  "language_info": {
   "codemirror_mode": {
    "name": "ipython",
    "version": 3
   },
   "file_extension": ".py",
   "mimetype": "text/x-python",
   "name": "python",
   "nbconvert_exporter": "python",
   "pygments_lexer": "ipython3",
   "version": "3.11.10"
  }
 },
 "nbformat": 4,
 "nbformat_minor": 2
}
