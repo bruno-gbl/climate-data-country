{
 "cells": [
  {
   "cell_type": "markdown",
   "metadata": {},
   "source": [
    "## Set Up: Jupyter Notebook"
   ]
  },
  {
   "cell_type": "code",
   "execution_count": 3,
   "metadata": {},
   "outputs": [
    {
     "ename": "SyntaxError",
     "evalue": "invalid syntax (1325460312.py, line 6)",
     "output_type": "error",
     "traceback": [
      "\u001b[0;36m  Cell \u001b[0;32mIn[3], line 6\u001b[0;36m\u001b[0m\n\u001b[0;31m    pip install ingester3\u001b[0m\n\u001b[0m        ^\u001b[0m\n\u001b[0;31mSyntaxError\u001b[0m\u001b[0;31m:\u001b[0m invalid syntax\n"
     ]
    }
   ],
   "source": [
    "# Import the required libraries\n",
    "import requests\n",
    "import pandas as pd\n",
    "\n",
    "# Run in Terminal:\n",
    "pip install ingester3"
   ]
  },
  {
   "cell_type": "markdown",
   "metadata": {},
   "source": [
    "# Download: Geonames File\n",
    "- Create function \"download_geonames()\".\n",
    "- Download the geonames file provided in the API structure document.\n",
    "- Turn the json file into a Pandas DataFrame \"geonames\" for future use."
   ]
  },
  {
   "cell_type": "code",
   "execution_count": null,
   "metadata": {},
   "outputs": [],
   "source": [
    "# Function downloading the geonames data from the World Bank Climate Knowledge Portal and turning it into a pandas DataFrame\n",
    "def download_geonames():\n",
    "         \n",
    "    # Define the URL for the JSON file\n",
    "    url_geonames = \"https://climateknowledgeportal.worldbank.org/themes/cckp/data/geonames.json\"\n",
    "    # Fetch the JSON data using a GET request\n",
    "    response_geonames = requests.get(url_geonames)\n",
    "\n",
    "    # Parse the JSON response into a Python dictionary, if the request was successful\n",
    "    if response_geonames.status_code == 200:\n",
    "        geonames_json = response_geonames.json()\n",
    "    else:\n",
    "        print(f\"Failed to fetch data. Status code: {response.status_code}\")\n",
    "        geonames_json = None\n",
    "\n",
    "    # Flatten the nested structure into a list of dictionaries\n",
    "    flat_geonames_data_json = [\n",
    "        {\n",
    "            \"Country Code\": country_code,\n",
    "            \"Country Name\": details[\"N\"],\n",
    "            \"Subnational Code\": subnational_code,\n",
    "            \"Subnational Name\": subnational_name\n",
    "        }\n",
    "        for country_code, details in geonames_json[\"country\"].items()\n",
    "        for subnational_code, subnational_name in details[\"S\"].items()\n",
    "    ]\n",
    "    \n",
    "    # Convert the list into a pandas DataFrame\n",
    "    geonames_df = pd.DataFrame(flat_geonames_data_json)\n",
    "\n",
    "    # Return the DataFrame for further use\n",
    "    return geonames_df\n",
    "\n",
    "# Execute the function and fetch the geonames data\n",
    "geonames_df = download_geonames()"
   ]
  },
  {
   "cell_type": "markdown",
   "metadata": {},
   "source": [
    "## Download: Climate Data from CRU and ERA5 data sats\n",
    "- Functions with flexible URL. Function can call different variables. Insert variable name as function argument.\n",
    "    - Function for CRU data: download_cru_data\n",
    "    - Function for ERA5 data: download_era5_data\n",
    "- Data Specifications on WorldBank Climate Data Platform:\n",
    "    - CRU data set > timeseries > monthly > 1901-2022 > mean > model \"ts4.07\"\n",
    "    - ERA5 data set > timeseries > monthly > 1950-2023 > mean > model \"era5\" > model label \"x0.25\""
   ]
  },
  {
   "cell_type": "markdown",
   "metadata": {},
   "source": [
    "#### Define Function: Download CRU data"
   ]
  },
  {
   "cell_type": "code",
   "execution_count": 3,
   "metadata": {},
   "outputs": [],
   "source": [
    "# The API Structure:\n",
    "# https://cckpapi.worldbank.org/cckp/v1/cru-x0.5_timeseries_{variable_name}_timeseries_monthly_1901-2022_mean_historical_cru_ts4.07_mean/all_countries?_format=json\n",
    "\n",
    "# Function downloading the climate data from the World Bank Climate Knowledge Portal and turning it into a pandas DataFrame\n",
    "def download_cru_data(cru_variable):\n",
    "        \n",
    "        # Define the URL for the JSON file\n",
    "        url_climate_data = f\"https://cckpapi.worldbank.org/cckp/v1/cru-x0.5_timeseries_{cru_variable}_timeseries_monthly_1901-2022_mean_historical_cru_ts4.07_mean/all_countries?_format=json\"\n",
    "        # Fetch the JSON data using a GET request\n",
    "        response_climate_data = requests.get(url_climate_data)\n",
    "    \n",
    "        # Parse the JSON response into a Python dictionary, if the request was successful\n",
    "        if response_climate_data.status_code == 200:\n",
    "            climate_data_json = response_climate_data.json()\n",
    "        else:\n",
    "            print(f\"Failed to fetch data.\")\n",
    "            climate_data_json = None\n",
    "    \n",
    "        # Flatten the nested structure into a list of dictionaries\n",
    "        climate_data_json_only_data = climate_data_json[\"data\"]\n",
    "\n",
    "        rows = []\n",
    "\n",
    "        for country, timeseries in climate_data_json_only_data.items():\n",
    "            for date, value in timeseries.items():\n",
    "                rows.append({\"Country\": country, \"Date\": date, \"Value\": value})\n",
    "    \n",
    "        # Convert the list into a pandas DataFrame\n",
    "        climate_data_df = pd.DataFrame(rows)\n",
    "    \n",
    "        # Return the DataFrame for further use\n",
    "        return climate_data_df\n"
   ]
  },
  {
   "cell_type": "markdown",
   "metadata": {},
   "source": [
    "#### Download: CRU variables that should definitely be adopted."
   ]
  },
  {
   "cell_type": "code",
   "execution_count": 4,
   "metadata": {},
   "outputs": [],
   "source": [
    "# tas // Average Mean Surface Air Temperature // G: Only relative temperature variables\n",
    "tas_cru_df = download_cru_data(\"tas\")\n",
    "\n",
    "# tasmax // Average Maximum Surface Air Temperature // G: Only relative temperature variables\n",
    "tasmax_cru_df = download_cru_data(\"tasmax\")\n",
    "\n",
    "# tasmin // Average Minimum Surface Air Temperature // G: Only relative temperature variables\n",
    "tasmin_cru_df = download_cru_data(\"tasmin\")\n"
   ]
  },
  {
   "cell_type": "markdown",
   "metadata": {},
   "source": [
    "#### Define Function: Download ERA5 data"
   ]
  },
  {
   "cell_type": "code",
   "execution_count": 5,
   "metadata": {},
   "outputs": [],
   "source": [
    "# The API Structure:\n",
    "# https://cckpapi.worldbank.org/cckp/v1/era5-x0.25_timeseries_{variable_name}_timeseries_monthly_1950-2023_mean_historical_era5_x0.25_mean/all_countries?_format=json\n",
    "\n",
    "# Function downloading the climate data from the World Bank Climate Knowledge Portal and turning it into a pandas DataFrame\n",
    "def download_era5_data(era5_variable):\n",
    "        \n",
    "        # Define the URL for the JSON file\n",
    "        url_climate_data = f\"https://cckpapi.worldbank.org/cckp/v1/era5-x0.25_timeseries_{era5_variable}_timeseries_monthly_1950-2023_mean_historical_era5_x0.25_mean/all_countries?_format=json\"\n",
    "        # Fetch the JSON data using a GET request\n",
    "        response_climate_data = requests.get(url_climate_data)\n",
    "    \n",
    "        # Parse the JSON response into a Python dictionary, if the request was successful\n",
    "        if response_climate_data.status_code == 200:\n",
    "            climate_data_json = response_climate_data.json()\n",
    "        else:\n",
    "            print(f\"Failed to fetch data.\")\n",
    "            climate_data_json = None\n",
    "    \n",
    "        # Flatten the nested structure into a list of dictionaries\n",
    "        climate_data_json_only_data = climate_data_json[\"data\"]\n",
    "\n",
    "        rows = []\n",
    "\n",
    "        for country, timeseries in climate_data_json_only_data.items():\n",
    "            for date, value in timeseries.items():\n",
    "                rows.append({\"Country\": country, \"Date\": date, \"Value\": value})\n",
    "    \n",
    "        # Convert the list into a pandas DataFrame\n",
    "        climate_data_df = pd.DataFrame(rows)\n",
    "    \n",
    "        # Return the DataFrame for further use\n",
    "        return climate_data_df"
   ]
  },
  {
   "cell_type": "markdown",
   "metadata": {},
   "source": [
    "#### Download: ERA5 variables that should definitely be adopted."
   ]
  },
  {
   "cell_type": "code",
   "execution_count": 6,
   "metadata": {},
   "outputs": [],
   "source": [
    "# cdd65 // Cooling Degree Days (ref-65°F)\n",
    "cdd65_era5_df = download_era5_data(\"cdd65\")\n",
    "\n",
    "# hd35 // Number of Hot Days (Tmax > 35°C)\n",
    "hd35_era5_df = download_era5_data(\"hd35\")\n",
    "\n",
    "# hd40 // Number of Hot Days (Tmax > 40°C)\n",
    "hd40_era5_df = download_era5_data(\"hd40\")\n",
    "\n",
    "# hd42 // Number of Hot Days (Tmax > 42°C)\n",
    "hd42_era5_df = download_era5_data(\"hd42\")\n",
    "\n",
    "# hdd65 // Heating degree days (ref-65°F)\n",
    "hdd65_era5_df = download_era5_data(\"hdd65\")\n",
    "\n",
    "# hi35 // Number of Days with Heat Index > 35°C\n",
    "hi35_era5_df = download_era5_data(\"hi35\")\n",
    "\n",
    "# hi37 // Number of Days with Heat Index > 37°C\n",
    "hi37_era5_df = download_era5_data(\"hi37\")\n",
    "\n",
    "# hurs // Relative Humidity\n",
    "hurs_era5_df = download_era5_data(\"hurs\")\n",
    "\n",
    "# prpercnt // Precipitation Percent Change\n",
    "prpercnt_era5_df = download_era5_data(\"prpercnt\")\n",
    "\n",
    "# rx1day // Average Largest 1-Day Precipitation\n",
    "rx1day_era5_df = download_era5_data(\"rx1day\")\n",
    "\n",
    "# rx5day // Average Largest 5-Day Cumulative Precipitation\n",
    "rx5day_era5_df = download_era5_data(\"rx5day\")\n",
    "\n",
    "# tnn // Minimum of Daily Min-Temperature\n",
    "tnn_era5_df = download_era5_data(\"tnn\")\n",
    "\n",
    "# txx // Maximum of Daily Max-Temperature\n",
    "txx_era5_df = download_era5_data(\"txx\")\n"
   ]
  },
  {
   "cell_type": "markdown",
   "metadata": {},
   "source": [
    "#### Download: ERA5 variables that should probably be adopted."
   ]
  },
  {
   "cell_type": "code",
   "execution_count": 8,
   "metadata": {},
   "outputs": [],
   "source": [
    "# pr // Precipitation // G: \"Total wet day precipitation\" // similar, not identical to existing \"pr\" variable // This variable is average precipitation over a given time // Potentially also includes smaller variation of rain below 1mm\n",
    "pr_era5_df = download_era5_data(\"pr\")\n",
    "\n",
    "# hd30 // Number of Hot Days (Tmax > 30°C) //  G: - // Overlaping with existing hd35, hd40, hd42\n",
    "hd30_era5_df = download_era5_data(\"hd30\")\n",
    "\n",
    "# hd50 // Number of Hot Days (Tmax > 50°C) // G: - // Only daily maximum temperature per month/year.\n",
    "hd50_era5_df = download_era5_data(\"hd50\")\n",
    "\n",
    "# hi39 // Number of Days with Heat Index > 39°C // Did not include variable that was available\n",
    "hi39_era5_df = download_era5_data(\"hi39\")\n",
    "\n",
    "# hi41 // Number of Days with Heat Index > 41°C // G: - // Did not include variable that was available\n",
    "hi41_era5_df = download_era5_data(\"hi41\")\n",
    "\n",
    "# r50mm // Number of Days with Precipitation >50mm // G: - // Only \"Very heavy precipitation days\" = days with more than 20mm\n",
    "r50mm_era5_df = download_era5_data(\"r50mm\")\n",
    "\n",
    "# r95ptot // Precipitation amount during wettest days //  G: - // Did not include identical variable \"Very wet day precipitation\"\n",
    "r95ptot_era5_df = download_era5_data(\"r95ptot\")\n",
    "\n",
    "# tr23 // Number of Tropical Nights (T-min > 23°C) // [Very similar to \"tr\"]\n",
    "tr23_era5_df = download_era5_data(\"tr23\")\n",
    "\n",
    "# tr26 // Number of Tropical Nights (T-min > 26°C) // [Very similar to \"tr\"]\n",
    "tr26_era5_df = download_era5_data(\"tr26\")\n",
    "\n",
    "# tr29 // Number of Tropical Nights (T-min > 29°C) // [Very similar to \"tr\"]\n",
    "tr29_era5_df = download_era5_data(\"tr29\")\n",
    "\n",
    "# tr32 // Number of Tropical Nights (T-min > 32°C) // [Very similar to \"tr\"]\n",
    "tr23_era5_df = download_era5_data(\"tr32\")\n"
   ]
  },
  {
   "cell_type": "markdown",
   "metadata": {},
   "source": [
    "#### Download: ERA5 variables that should probably NOT be adopted."
   ]
  },
  {
   "cell_type": "code",
   "execution_count": 9,
   "metadata": {},
   "outputs": [],
   "source": [
    "# fd // Number of Frost Days (Tmin < 0°C) // G: Almost identical variable // G: count variable // Here: Average over time, i.e. data period. Smoothed-out, long-term perspective of Frost Days; Less interesting for forecasting.\n",
    "fd_era5_df = download_era5_data(\"fd\")\n",
    "\n",
    "# id // Number of Ice Days (Tmax < 0°C) // G: Almost identical variable // G: count variable // Here: Average over time, i.e. data period. Smoothed-out, long-term perspective of Ice Days; Less interesting for forecasting.\n",
    "id_era5_df = download_era5_data(\"id\")\n"
   ]
  },
  {
   "cell_type": "markdown",
   "metadata": {},
   "source": [
    "## Data Wrangling: Bringing data sets with climate variables into suitable VIEWS format"
   ]
  },
  {
   "cell_type": "code",
   "execution_count": null,
   "metadata": {},
   "outputs": [],
   "source": []
  }
 ],
 "metadata": {
  "kernelspec": {
   "display_name": "viewser",
   "language": "python",
   "name": "python3"
  },
  "language_info": {
   "codemirror_mode": {
    "name": "ipython",
    "version": 3
   },
   "file_extension": ".py",
   "mimetype": "text/x-python",
   "name": "python",
   "nbconvert_exporter": "python",
   "pygments_lexer": "ipython3",
   "version": "3.11.10"
  }
 },
 "nbformat": 4,
 "nbformat_minor": 2
}
